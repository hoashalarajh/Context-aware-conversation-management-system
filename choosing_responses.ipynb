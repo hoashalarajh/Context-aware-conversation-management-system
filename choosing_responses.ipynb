{
 "cells": [
  {
   "attachments": {},
   "cell_type": "markdown",
   "metadata": {},
   "source": [
    "# Generating Chatbot Response Based on Cosine Similartiy"
   ]
  },
  {
   "cell_type": "code",
   "execution_count": 8,
   "metadata": {},
   "outputs": [
    {
     "name": "stderr",
     "output_type": "stream",
     "text": [
      "[nltk_data] Downloading package wordnet to\n",
      "[nltk_data]     C:\\Users\\Hoashalarajh\\AppData\\Roaming\\nltk_data...\n",
      "[nltk_data]   Package wordnet is already up-to-date!\n"
     ]
    }
   ],
   "source": [
    "import nltk\n",
    "import nltk\n",
    "nltk.download('wordnet')\n",
    "from sklearn.feature_extraction.text import TfidfVectorizer\n",
    "from sklearn.metrics.pairwise import cosine_similarity\n",
    "import string"
   ]
  },
  {
   "cell_type": "code",
   "execution_count": 9,
   "metadata": {},
   "outputs": [],
   "source": [
    "# Preprocess the response sentences and user input sentence\n",
    "response_sentences = ['netflix is better than other online streamings', 'Keeping faith is a good movie', 'India is a largest democraic country in South Asia']\n",
    "user_input = \"Which is a good online streaming platform among available\"\n",
    "lemmatizer = nltk.stem.WordNetLemmatizer()\n",
    "remove_punct_dict = dict((ord(punct), None) for punct in string.punctuation)\n",
    "response_tokens = [nltk.word_tokenize(sent.lower().translate(remove_punct_dict)) for sent in response_sentences]\n",
    "user_input_tokens = nltk.word_tokenize(user_input.lower().translate(remove_punct_dict))\n",
    "response_lemmatized = [[lemmatizer.lemmatize(word) for word in tokens] for tokens in response_tokens]\n",
    "user_input_lemmatized = [lemmatizer.lemmatize(word) for word in user_input_tokens]"
   ]
  },
  {
   "cell_type": "code",
   "execution_count": 10,
   "metadata": {},
   "outputs": [],
   "source": [
    "# Convert the preprocessed sentences to numerical vectors using TF-IDF\n",
    "corpus = [' '.join(sent) for sent in response_lemmatized]\n",
    "vectorizer = TfidfVectorizer()\n",
    "response_vectors = vectorizer.fit_transform(corpus)\n",
    "user_input_vector = vectorizer.transform([' '.join(user_input_lemmatized)])"
   ]
  },
  {
   "cell_type": "code",
   "execution_count": 11,
   "metadata": {},
   "outputs": [],
   "source": [
    "# Calculate cosine similarity between user input and response sentences\n",
    "similarity_scores = cosine_similarity(user_input_vector, response_vectors)[0]"
   ]
  },
  {
   "cell_type": "code",
   "execution_count": 12,
   "metadata": {},
   "outputs": [],
   "source": [
    "# Select the response with the highest cosine similarity score\n",
    "index_of_max_score = similarity_scores.argmax()\n",
    "selected_response = response_sentences[index_of_max_score]"
   ]
  },
  {
   "cell_type": "code",
   "execution_count": 13,
   "metadata": {},
   "outputs": [
    {
     "name": "stdout",
     "output_type": "stream",
     "text": [
      "Maximum similarity score is : 0.5093988510338425\n"
     ]
    }
   ],
   "source": [
    "print (f\"Maximum similarity score is : {max(similarity_scores)}\")"
   ]
  },
  {
   "cell_type": "code",
   "execution_count": 14,
   "metadata": {},
   "outputs": [
    {
     "name": "stdout",
     "output_type": "stream",
     "text": [
      "The Selected response from the response list is : netflix is better than other online streamings\n"
     ]
    }
   ],
   "source": [
    "# printing the selected response from the response list\n",
    "print (f\"The Selected response from the response list is : {selected_response}\")"
   ]
  }
 ],
 "metadata": {
  "kernelspec": {
   "display_name": "Python 3",
   "language": "python",
   "name": "python3"
  },
  "language_info": {
   "codemirror_mode": {
    "name": "ipython",
    "version": 3
   },
   "file_extension": ".py",
   "mimetype": "text/x-python",
   "name": "python",
   "nbconvert_exporter": "python",
   "pygments_lexer": "ipython3",
   "version": "3.10.9"
  },
  "orig_nbformat": 4
 },
 "nbformat": 4,
 "nbformat_minor": 2
}
